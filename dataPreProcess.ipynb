{
 "cells": [
  {
   "cell_type": "code",
   "execution_count": 1,
   "metadata": {},
   "outputs": [],
   "source": [
    "import glob   \n",
    "ele_c_tr=[]\n",
    "path = \"./labelled_contracts/elements_contracts/train/*.stabilo\"\n",
    "files=glob.glob(path)   \n",
    "for file in files:     \n",
    "    f=open(file, 'r') \n",
    "    ele_c_tr.append(f.readlines())\n",
    "    f.close()"
   ]
  },
  {
   "cell_type": "code",
   "execution_count": 2,
   "metadata": {},
   "outputs": [],
   "source": [
    "ele_c_tr=[[j.split() for j in i] for i in ele_c_tr]"
   ]
  },
  {
   "cell_type": "code",
   "execution_count": 3,
   "metadata": {},
   "outputs": [],
   "source": [
    "for i in ele_c_tr:\n",
    "    for j in i:\n",
    "        j.append(\"TOKEN_170965[0]\")"
   ]
  },
  {
   "cell_type": "code",
   "execution_count": 4,
   "metadata": {},
   "outputs": [],
   "source": [
    "X=[]\n",
    "y=[]\n",
    "for i in ele_c_tr:\n",
    "    x=[]\n",
    "    Y=[]\n",
    "    for j in i:\n",
    "        for k in j:\n",
    "            x.append(k[6:k.find('[')])\n",
    "            Y.append(k[k.find('['):])\n",
    "    X.append(x)\n",
    "    y.append(Y)"
   ]
  },
  {
   "cell_type": "code",
   "execution_count": 23,
   "metadata": {},
   "outputs": [],
   "source": [
    "import pickle"
   ]
  },
  {
   "cell_type": "code",
   "execution_count": 6,
   "metadata": {},
   "outputs": [],
   "source": [
    "t={'0':0,'TIT':1,'CNP':2,'STD':3,'EFD':4,'TED':5,'PER':6,'VAL':7,'GOV':8,'JUR':9 ,'LEG':10}\n",
    "y=[[t[j[1:-1]] for j in i] for i in y]"
   ]
  },
  {
   "cell_type": "code",
   "execution_count": 24,
   "metadata": {},
   "outputs": [],
   "source": [
    "pickle.dump(r,open(\"Train\",\"wb\"))"
   ]
  },
  {
   "cell_type": "code",
   "execution_count": 30,
   "metadata": {
    "collapsed": true
   },
   "outputs": [],
   "source": [
    "pickle.dump(r,open(\"Labels\",\"wb\"))"
   ]
  },
  {
   "cell_type": "code",
   "execution_count": 8,
   "metadata": {},
   "outputs": [],
   "source": [
    "import glob   \n",
    "ele_c_tr=[]\n",
    "path = \"./labelled_contracts/elements_contracts/train/*.stabilo\"\n",
    "files=glob.glob(path)   \n",
    "for file in files:     \n",
    "    f=open(file, 'r') \n",
    "    ele_c_tr.append(f.readlines())\n",
    "    f.close()"
   ]
  },
  {
   "cell_type": "code",
   "execution_count": 9,
   "metadata": {
    "collapsed": true
   },
   "outputs": [],
   "source": [
    "ele_c_tr=[[j.split() for j in i] for i in ele_c_tr]"
   ]
  },
  {
   "cell_type": "code",
   "execution_count": 10,
   "metadata": {},
   "outputs": [],
   "source": [
    "for i in ele_c_tr:\n",
    "    for j in i:\n",
    "        if j!= [] and '<' not in j[0]:\n",
    "            j.append(\"TOKEN_170965[0]\")"
   ]
  },
  {
   "cell_type": "code",
   "execution_count": 11,
   "metadata": {},
   "outputs": [],
   "source": [
    "for j in range(1,len(ele_c_tr)):\n",
    "    ele_c_tr[j][0].append(\"TOKEN_170965[0]\")"
   ]
  },
  {
   "cell_type": "code",
   "execution_count": 20,
   "metadata": {
    "collapsed": true
   },
   "outputs": [],
   "source": [
    "import numpy as np"
   ]
  },
  {
   "cell_type": "code",
   "execution_count": 12,
   "metadata": {},
   "outputs": [],
   "source": [
    "zones=[]\n",
    "X=[]\n",
    "y=[]\n",
    "for i in ele_c_tr:\n",
    "    x=[]\n",
    "    Y=[]\n",
    "    z=[]\n",
    "    for j in i:\n",
    "        if j != [] and '<' not in j[0]:\n",
    "            for k in j:\n",
    "                x.append(k[6:k.find('[')])\n",
    "                Y.append(k[k.find('['):])\n",
    "        elif j!=[]:\n",
    "            z.append(j[0])\n",
    "            x.append(j[0])\n",
    "            Y.append(j[0])\n",
    "            \n",
    "    X.append(x)\n",
    "    y.append(Y)\n",
    "    zones.append(z)"
   ]
  },
  {
   "cell_type": "code",
   "execution_count": 13,
   "metadata": {},
   "outputs": [],
   "source": [
    "X=[[j for j in i if j.isnumeric() ]for i in X]"
   ]
  },
  {
   "cell_type": "code",
   "execution_count": 14,
   "metadata": {},
   "outputs": [],
   "source": [
    "y=[[j for j in i if '[' in j]for i in y]"
   ]
  },
  {
   "cell_type": "code",
   "execution_count": 15,
   "metadata": {
    "collapsed": true
   },
   "outputs": [],
   "source": [
    "t={'0':0,'TIT':1,'CNP':2,'STD':3,'EFD':4,'TED':5,'PER':6,'VAL':7,'GOV':8,'JUR':9 ,'LEG':10}\n",
    "y=[[t[j[1:-1]] for j in i] for i in y]"
   ]
  },
  {
   "cell_type": "code",
   "execution_count": 233,
   "metadata": {},
   "outputs": [],
   "source": [
    "pickle.dump(tx,open(\"Test\",\"wb\"))"
   ]
  },
  {
   "cell_type": "code",
   "execution_count": 234,
   "metadata": {
    "collapsed": true
   },
   "outputs": [],
   "source": [
    "pickle.dump(ty,open(\"TLabels\",\"wb\"))"
   ]
  },
  {
   "cell_type": "code",
   "execution_count": 235,
   "metadata": {
    "collapsed": true
   },
   "outputs": [],
   "source": [
    "pickle.dump(zones,open(\"Tzones\",\"wb\"))"
   ]
  }
 ],
 "metadata": {
  "kernelspec": {
   "display_name": "Python 3",
   "language": "python",
   "name": "python3"
  },
  "language_info": {
   "codemirror_mode": {
    "name": "ipython",
    "version": 3
   },
   "file_extension": ".py",
   "mimetype": "text/x-python",
   "name": "python",
   "nbconvert_exporter": "python",
   "pygments_lexer": "ipython3",
   "version": "3.5.2"
  }
 },
 "nbformat": 4,
 "nbformat_minor": 2
}
